{
 "cells": [
  {
   "cell_type": "code",
   "execution_count": 5,
   "id": "3224c685",
   "metadata": {},
   "outputs": [],
   "source": [
    "import os\n",
    "import pandas as pd\n",
    "import geopandas as gpd\n",
    "import cdsapi\n",
    "from datetime import datetime, timedelta\n",
    "import xarray as xr\n",
    "import netCDF4\n",
    "import zipfile\n",
    "import shutil\n",
    "import matplotlib.pyplot as plt\n",
    "\n",
    "# === SETTINGS ===\n",
    "outage_file  = \"data_collection_by_hollis/correlated_outage/extreme_outage_events.csv\"\n",
    "weather_dir  = \"data_collection_by_hollis/correlated_outage/weather_output\"\n",
    "os.makedirs(weather_dir , exist_ok=True)\n",
    "\n",
    "# Load outage events\n",
    "df = pd.read_csv(outage_file)"
   ]
  },
  {
   "cell_type": "code",
   "execution_count": 6,
   "id": "0f620bfa",
   "metadata": {},
   "outputs": [
    {
     "name": "stderr",
     "output_type": "stream",
     "text": [
      "C:\\Users\\holli\\AppData\\Local\\Temp\\ipykernel_37424\\836355668.py:8: UserWarning: Geometry is in a geographic CRS. Results from 'centroid' are likely incorrect. Use 'GeoSeries.to_crs()' to re-project geometries to a projected CRS before this operation.\n",
      "\n",
      "  counties[\"lat\"] = counties.geometry.centroid.y\n",
      "C:\\Users\\holli\\AppData\\Local\\Temp\\ipykernel_37424\\836355668.py:9: UserWarning: Geometry is in a geographic CRS. Results from 'centroid' are likely incorrect. Use 'GeoSeries.to_crs()' to re-project geometries to a projected CRS before this operation.\n",
      "\n",
      "  counties[\"lon\"] = counties.geometry.centroid.x\n"
     ]
    }
   ],
   "source": [
    "df = df.drop(columns=[\n",
    "    col for col in df.columns if any(x in col for x in [\"STATEFP\", \"COUNTYFP\", \"STATE_NAME\", \"NAME\", \"lat\", \"lon\"])\n",
    "])\n",
    "\n",
    "# Load U.S. county shapefile from Census\n",
    "shapefile_path = \"data_collection_by_hollis/shapefiles/cb_2020_us_county_5m.zip\"\n",
    "counties = gpd.read_file(shapefile_path)\n",
    "counties[\"lat\"] = counties.geometry.centroid.y\n",
    "counties[\"lon\"] = counties.geometry.centroid.x\n",
    "\n",
    "# Re-project to a U.S.-appropriate planar CRS\n",
    "counties = counties.to_crs(epsg=5070)\n",
    "counties[\"county_lat\"] = counties.geometry.centroid.to_crs(epsg=4326).y\n",
    "counties[\"county_lon\"] = counties.geometry.centroid.to_crs(epsg=4326).x\n",
    "\n",
    "# Rename to match clean merge keys\n",
    "counties = counties.rename(columns={\n",
    "    \"NAME\": \"county\",\n",
    "    \"STATE_NAME\": \"state\"\n",
    "})\n",
    "\n",
    "# Merge on lowercase standardized fields\n",
    "df = df.merge(\n",
    "    counties[[\"state\", \"county\", \"county_lat\", \"county_lon\"]],\n",
    "    on=[\"state\", \"county\"],\n",
    "    how=\"left\"\n",
    ")\n",
    "\n",
    "counties[['state', 'county', 'county_lat', 'county_lon']].to_csv(\"county_centroids.csv\", index=False)\n"
   ]
  },
  {
   "cell_type": "code",
   "execution_count": 39,
   "id": "a35c42f1",
   "metadata": {},
   "outputs": [],
   "source": [
    "def unzip_and_collect(zip_path):\n",
    "    folder = os.path.dirname(zip_path)\n",
    "    if not zipfile.is_zipfile(zip_path):\n",
    "        return [zip_path]  # already .nc or uncompressed\n",
    "\n",
    "    with zipfile.ZipFile(zip_path, 'r') as zip_ref:\n",
    "        zip_ref.extractall(folder)\n",
    "        extracted = [os.path.join(folder, f) for f in zip_ref.namelist()]\n",
    "    return [f for f in extracted if f.endswith(\".nc\") or f.endswith(\".grib\")]"
   ]
  },
  {
   "cell_type": "code",
   "execution_count": null,
   "id": "af592b30",
   "metadata": {},
   "outputs": [],
   "source": [
    "def clean_downloaded_nc_files(keep_path, extra_paths):\n",
    "    for path in extra_paths:\n",
    "        if os.path.exists(path) and path != keep_path:\n",
    "            try:\n",
    "                os.remove(path)\n",
    "                print(f\"🗑️ Deleted extra file: {path}\")\n",
    "            except Exception as e:\n",
    "                print(f\"⚠️ Could not delete: {path}\\n   {e}\")\n"
   ]
  },
  {
   "cell_type": "code",
   "execution_count": null,
   "id": "55a460ec",
   "metadata": {},
   "outputs": [],
   "source": [
    "def download_hourly_weather(lat, lon, datetime_str, event_index, save_folder):\n",
    "\n",
    "    client = cdsapi.Client()\n",
    "    target_datetime = pd.to_datetime(datetime_str)\n",
    "    start_datetime = target_datetime - timedelta(hours=47)\n",
    "\n",
    "    area = [round(float(lat)+0.1, 4), round(float(lon)-0.1, 4),\n",
    "            round(float(lat)-0.1, 4), round(float(lon)+0.1, 4)]\n",
    "\n",
    "    out_file = os.path.join(\n",
    "        save_folder,\n",
    "        f\"event_{event_index}_{target_datetime.strftime('%Y-%m-%d_%H-%M')}.nc\"\n",
    "    )\n",
    "    temp_file = out_file.replace(\".nc\", \"_raw.nc\")  # Always save to a \"raw\" temp file\n",
    "\n",
    "    if os.path.exists(out_file):\n",
    "        print(f\"✅ Already exists: {out_file}\")\n",
    "        return out_file\n",
    "\n",
    "    print(f\"\\n📂  Requesting: {out_file}\")\n",
    "    print(f\" → Period: {start_datetime} to {target_datetime}, Area: {area}\")\n",
    "\n",
    "    try:\n",
    "        client.retrieve(\n",
    "            'reanalysis-era5-single-levels',\n",
    "            {\n",
    "                'product_type': 'reanalysis',\n",
    "                'format': 'netcdf',\n",
    "                'variable': [\n",
    "                    '2m_temperature',\n",
    "                    # '2m_dewpoint_temperature',\n",
    "                    # 'surface_pressure',\n",
    "                    # '10m_u_component_of_wind',\n",
    "                    # '10m_v_component_of_wind',\n",
    "                    # 'instantaneous_10m_wind_gust',\n",
    "                    'total_precipitation',\n",
    "                    # 'snowfall',\n",
    "                    # 'total_column_rain_water',\n",
    "                    # 'surface_net_solar_radiation',\n",
    "                    # 'surface_latent_heat_flux',\n",
    "                    # 'boundary_layer_height',\n",
    "                ],\n",
    "                # 'format': 'grib',\n",
    "                'date': f\"{start_datetime.date()}/{target_datetime.date()}\",\n",
    "                'time': [f\"{h:02}:00\" for h in range(24)],\n",
    "                'area': area,\n",
    "            },\n",
    "            temp_file\n",
    "        )\n",
    "\n",
    "        # Detect if it's actually a ZIP file by checking the first few bytes\n",
    "        with open(temp_file, 'rb') as f:\n",
    "            magic_number = f.read(4)\n",
    "\n",
    "        if magic_number == b'PK\\x03\\x04':\n",
    "            # It's actually a ZIP file\n",
    "            with zipfile.ZipFile(temp_file, 'r') as zip_ref:\n",
    "                zip_ref.extractall(save_folder)\n",
    "                nc_files = [os.path.join(save_folder, name) for name in zip_ref.namelist() if name.endswith(\".nc\")]\n",
    "\n",
    "            if not nc_files:\n",
    "                print(\"❌ No .nc file inside the zip.\")\n",
    "                return None\n",
    "\n",
    "            os.rename(nc_files[0], out_file)\n",
    "            print(f\"✅ Extracted and renamed to: {out_file}\")\n",
    "            for f in nc_files[1:]:\n",
    "                os.remove(f)\n",
    "            os.remove(temp_file)\n",
    "\n",
    "        else:\n",
    "            # It's a real NetCDF file (rare for multi-variable requests, but may happen)\n",
    "            os.rename(temp_file, out_file)\n",
    "            print(f\"✅ Downloaded NetCDF saved as: {out_file}\")\n",
    "\n",
    "        return out_file\n",
    "\n",
    "    except Exception as e:\n",
    "        print(f\"❌ Download or processing failed for event {event_index}\\n   {e}\")\n",
    "        return None"
   ]
  },
  {
   "cell_type": "code",
   "execution_count": 62,
   "id": "476efc97",
   "metadata": {},
   "outputs": [
    {
     "name": "stderr",
     "output_type": "stream",
     "text": [
      "2025-04-23 19:36:43,867 INFO [2024-09-26T00:00:00] Watch our [Forum](https://forum.ecmwf.int/) for Announcements, news and other discussed topics.\n",
      "2025-04-23 19:36:43,869 WARNING [2024-06-16T00:00:00] CDS API syntax is changed and some keys or parameter names may have also changed. To avoid requests failing, please use the \"Show API request code\" tool on the dataset Download Form to check you are using the correct syntax for your API request.\n"
     ]
    },
    {
     "name": "stdout",
     "output_type": "stream",
     "text": [
      "\n",
      "📂  Requesting: data_collection_by_hollis/correlated_outage/weather_output\\event_0_2014-11-24_09-30.nc\n",
      " → Period: 2014-11-22 10:30:00 to 2014-11-24 09:30:00, Area: [36.4686, -90.5171, 36.2686, -90.3171]\n"
     ]
    },
    {
     "name": "stderr",
     "output_type": "stream",
     "text": [
      "2025-04-23 19:36:44,955 INFO Request ID is 22f6160c-c5d7-4d10-8ee5-defe48b802f9\n",
      "2025-04-23 19:36:45,223 INFO status has been updated to accepted\n",
      "2025-04-23 19:36:54,425 INFO status has been updated to running\n",
      "2025-04-23 19:37:07,629 INFO status has been updated to successful\n"
     ]
    },
    {
     "data": {
      "application/vnd.jupyter.widget-view+json": {
       "model_id": "4dab88c06ed947cba2af94e5ff9266c3",
       "version_major": 2,
       "version_minor": 0
      },
      "text/plain": [
       "4d7efad7fad8ec0c4d5c5f4cbb2f9d6e.nc:   0%|          | 0.00/25.1k [00:00<?, ?B/s]"
      ]
     },
     "metadata": {},
     "output_type": "display_data"
    },
    {
     "name": "stdout",
     "output_type": "stream",
     "text": [
      "✅ Downloaded NetCDF saved as: data_collection_by_hollis/correlated_outage/weather_output\\event_0_2014-11-24_09-30.nc\n"
     ]
    }
   ],
   "source": [
    "for i, row in df.iterrows():\n",
    "    try:\n",
    "        if pd.isnull(row['start_time']):\n",
    "            continue\n",
    "        date_str = pd.to_datetime(row['start_time']).strftime('%Y-%m-%d %H:%M')\n",
    "        lat, lon = row['county_lat'], row['county_lon']\n",
    "        download_hourly_weather(lat, lon, date_str, i, 'data_collection_by_hollis/correlated_outage/weather_output')\n",
    "    except Exception as e:\n",
    "        print(f\"❌ Failed event {i} ({row['county']}): {e}\")\n",
    "    break\n"
   ]
  },
  {
   "cell_type": "code",
   "execution_count": 64,
   "id": "392caeab",
   "metadata": {},
   "outputs": [
    {
     "name": "stdout",
     "output_type": "stream",
     "text": [
      "b'\\x89HDF\\r\\n\\x1a\\n\\x02\\x08\\x08\\x00\\x00\\x00\\x00\\x00\\x00\\x00\\x00\\x00\\xff\\xff\\xff\\xff\\xff\\xff\\xff\\xffed\\x00\\x00\\x00\\x00\\x00\\x000\\x00\\x00\\x00\\x00\\x00\\x00\\x00\\xc5H%\\xb5OHDR\\x02\\r\\xb7\\x02\\x02\"\\x00\\x00\\x00\\x00\\x00\\x03\\t\\x00\\x00\\x00\\x00\\x00\\x00\\x00\\xff\\xff\\xff\\xff\\xff\\xff\\xff\\xff\\xff\\xff\\xff\\xff\\xff\\xff\\xff\\xff\\xff\\xff\\xff\\xff\\xff\\xff\\xff\\xff\\n\\x02\\x00\\x01\\x00\\x00\\x00\\x00\\x10\\x10\\x00\\x00\\x00\\x00\\xff\\x03\\x00\\x00\\x00\\x00\\x00\\x00c\\x00\\x00\\x00\\x00\\x00\\x00\\x00\\x0c%\\x00\\x00\\x00\\x00\\x03\\x00\\x0c\\x00\\x08\\x00\\x04\\x00\\x00GRIB_centre\\x00\\x13\\x00\\x00\\x00\\x04\\x00\\x00\\x00\\x02\\x00\\x00\\x00ecmf\\x0c^\\x00\\x00\\x01\\x00\\x03\\x00\\x17\\x00\\x08\\x00\\x04\\x00\\x00GRIB_centreDescription\\x00\\x13\\x00\\x00\\x002\\x00\\x00\\x00\\x02\\x00\\x00\\x00European Centre for Medium-Range Weather Forecasts\\x0c@\\x00\\x00\\x02\\x00\\x03\\x00\\x0f\\x00\\x0c\\x00\\x14\\x00\\x00GRIB_subCentre\\x00\\x10'\n",
      "data_collection_by_hollis/correlated_outage/weather_output/event_0_2014-11-24_09-30.nc size: 25701 bytes\n",
      "1.7.2\n",
      "{'netcdf4': <NetCDF4BackendEntrypoint>\n",
      "  Open netCDF (.nc, .nc4 and .cdf) and most HDF5 files using netCDF4 in Xarray\n",
      "  Learn more at https://docs.xarray.dev/en/stable/generated/xarray.backends.NetCDF4BackendEntrypoint.html, 'h5netcdf': <H5netcdfBackendEntrypoint>\n",
      "  Open netCDF (.nc, .nc4 and .cdf) and most HDF5 files using h5netcdf in Xarray\n",
      "  Learn more at https://docs.xarray.dev/en/stable/generated/xarray.backends.H5netcdfBackendEntrypoint.html, 'scipy': <ScipyBackendEntrypoint>\n",
      "  Open netCDF files (.nc, .nc4, .cdf and .gz) using scipy in Xarray\n",
      "  Learn more at https://docs.xarray.dev/en/stable/generated/xarray.backends.ScipyBackendEntrypoint.html, 'store': <StoreBackendEntrypoint>\n",
      "  Open AbstractDataStore instances in Xarray\n",
      "  Learn more at https://docs.xarray.dev/en/stable/generated/xarray.backends.StoreBackendEntrypoint.html}\n",
      "<xarray.Dataset> Size: 2kB\n",
      "Dimensions:     (valid_time: 72, latitude: 1, longitude: 1)\n",
      "Coordinates:\n",
      "    number      int64 8B ...\n",
      "  * valid_time  (valid_time) datetime64[ns] 576B 2014-11-22 ... 2014-11-24T23...\n",
      "  * latitude    (latitude) float64 8B 36.27\n",
      "  * longitude   (longitude) float64 8B -90.52\n",
      "    expver      (valid_time) <U4 1kB ...\n",
      "Data variables:\n",
      "    tp          (valid_time, latitude, longitude) float32 288B ...\n",
      "Attributes:\n",
      "    GRIB_centre:             ecmf\n",
      "    GRIB_centreDescription:  European Centre for Medium-Range Weather Forecasts\n",
      "    GRIB_subCentre:          0\n",
      "    Conventions:             CF-1.7\n",
      "    institution:             European Centre for Medium-Range Weather Forecasts\n",
      "    history:                 2025-04-24T01:37 GRIB to CDM+CF via cfgrib-0.9.1...\n",
      "⚠️ Variable 't2m' not found in dataset.\n",
      "⚠️ Variable 'd2m' not found in dataset.\n",
      "⚠️ Variable 'sp' not found in dataset.\n",
      "⚠️ Variable 'u10' not found in dataset.\n",
      "⚠️ Variable 'v10' not found in dataset.\n",
      "⚠️ Variable 'i10fg' not found in dataset.\n",
      "⚠️ Variable 'tcrw' not found in dataset.\n",
      "⚠️ Variable 'blh' not found in dataset.\n",
      "⚠️ Variable 'sf' not found in dataset.\n",
      "⚠️ Variable 'slhf' not found in dataset.\n",
      "⚠️ Variable 'avg_snswrf' not found in dataset.\n"
     ]
    },
    {
     "data": {
      "image/png": "[encoded data removed]",
      "text/plain": [
       "<Figure size 640x480 with 1 Axes>"
      ]
     },
     "metadata": {},
     "output_type": "display_data"
    }
   ],
   "source": [
    "import matplotlib.pyplot as plt\n",
    "\n",
    "file = \"data_collection_by_hollis/correlated_outage/weather_output/event_0_2014-11-24_09-30.nc\"\n",
    "# file = \"data_collection_by_hollis/correlated_outage/weather_output/event_0_2014-11-24_00-00_combined.nc\"\n",
    "xr.open_dataset(file, engine=\"h5netcdf\")\n",
    "\n",
    "with open(file, \"rb\") as f:\n",
    "    head = f.read(512)\n",
    "    print(head[:300])\n",
    "\n",
    "file_path = file\n",
    "print(f\"{file_path} size: {os.path.getsize(file_path)} bytes\")\n",
    "\n",
    "print(netCDF4.__version__)\n",
    "print(xr.backends.list_engines())\n",
    "\n",
    "ds = xr.open_dataset(\n",
    "    file,\n",
    "    engine=\"netcdf4\"\n",
    ")\n",
    "\n",
    "print(ds)\n",
    "\n",
    "# Dictionary of variable names and titles\n",
    "plot_vars = {\n",
    "    't2m': '2m Temperature',\n",
    "    'd2m': '2m Dew Point Temperature',\n",
    "    'sp': 'Surface Pressure',\n",
    "    'u10': '10m U Wind',\n",
    "    'v10': '10m V Wind',\n",
    "    'i10fg': 'Instantaneous 10m Wind Gust',\n",
    "    'tcrw': 'Total Column Rain Water',\n",
    "    'blh': 'Boundary Layer Height',\n",
    "    'tp': 'Total Precipitation',\n",
    "    'sf': 'Snowfall',\n",
    "    'slhf': 'Surface Latent Heat Flux',\n",
    "    'avg_snswrf': 'Average Net Short-Wave Radiation Flux'\n",
    "}\n",
    "\n",
    "for var, title in plot_vars.items():\n",
    "    if var in ds:\n",
    "        plt.figure()\n",
    "        ds[var].mean(dim=['latitude', 'longitude']).plot()\n",
    "        plt.title(f\"{title} (mean over space)\")\n",
    "        plt.grid(True)\n",
    "    else:\n",
    "        print(f\"⚠️ Variable '{var}' not found in dataset.\")\n",
    "ds.close()\n"
   ]
  }
 ],
 "metadata": {
  "kernelspec": {
   "display_name": "xarray_weather",
   "language": "python",
   "name": "python3"
  },
  "language_info": {
   "codemirror_mode": {
    "name": "ipython",
    "version": 3
   },
   "file_extension": ".py",
   "mimetype": "text/x-python",
   "name": "python",
   "nbconvert_exporter": "python",
   "pygments_lexer": "ipython3",
   "version": "3.11.12"
  }
 },
 "nbformat": 4,
 "nbformat_minor": 5
}
